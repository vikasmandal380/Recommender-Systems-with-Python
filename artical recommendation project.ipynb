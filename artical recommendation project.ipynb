{
 "cells": [
  {
   "cell_type": "code",
   "execution_count": 1,
   "id": "4b8b3ec8-26c2-465e-8bae-7fbcd3e6e219",
   "metadata": {},
   "outputs": [],
   "source": [
    "import pandas as pd\n",
    "import numpy as np"
   ]
  },
  {
   "cell_type": "code",
   "execution_count": 2,
   "id": "38c74529-0e07-40f3-a80d-143f970729b2",
   "metadata": {},
   "outputs": [],
   "source": [
    "train = pd.read_csv('Downloads/train-201102-092914.csv')"
   ]
  },
  {
   "cell_type": "code",
   "execution_count": 3,
   "id": "c55edffb-5db4-4bff-8d4a-f7ff1f7030a4",
   "metadata": {},
   "outputs": [
    {
     "name": "stdout",
     "output_type": "stream",
     "text": [
      "(16731, 3)\n"
     ]
    },
    {
     "data": {
      "text/html": [
       "<div>\n",
       "<style scoped>\n",
       "    .dataframe tbody tr th:only-of-type {\n",
       "        vertical-align: middle;\n",
       "    }\n",
       "\n",
       "    .dataframe tbody tr th {\n",
       "        vertical-align: top;\n",
       "    }\n",
       "\n",
       "    .dataframe thead th {\n",
       "        text-align: right;\n",
       "    }\n",
       "</style>\n",
       "<table border=\"1\" class=\"dataframe\">\n",
       "  <thead>\n",
       "    <tr style=\"text-align: right;\">\n",
       "      <th></th>\n",
       "      <th>user_id</th>\n",
       "      <th>article_id</th>\n",
       "      <th>rating</th>\n",
       "    </tr>\n",
       "  </thead>\n",
       "  <tbody>\n",
       "    <tr>\n",
       "      <th>0</th>\n",
       "      <td>1</td>\n",
       "      <td>456</td>\n",
       "      <td>1</td>\n",
       "    </tr>\n",
       "    <tr>\n",
       "      <th>1</th>\n",
       "      <td>1</td>\n",
       "      <td>2934</td>\n",
       "      <td>1</td>\n",
       "    </tr>\n",
       "    <tr>\n",
       "      <th>2</th>\n",
       "      <td>1</td>\n",
       "      <td>82</td>\n",
       "      <td>1</td>\n",
       "    </tr>\n",
       "    <tr>\n",
       "      <th>3</th>\n",
       "      <td>1</td>\n",
       "      <td>1365</td>\n",
       "      <td>1</td>\n",
       "    </tr>\n",
       "    <tr>\n",
       "      <th>4</th>\n",
       "      <td>1</td>\n",
       "      <td>221</td>\n",
       "      <td>1</td>\n",
       "    </tr>\n",
       "  </tbody>\n",
       "</table>\n",
       "</div>"
      ],
      "text/plain": [
       "   user_id  article_id  rating\n",
       "0        1         456       1\n",
       "1        1        2934       1\n",
       "2        1          82       1\n",
       "3        1        1365       1\n",
       "4        1         221       1"
      ]
     },
     "execution_count": 3,
     "metadata": {},
     "output_type": "execute_result"
    }
   ],
   "source": [
    "# shape of the users data\n",
    "print(train.shape)\n",
    "# view the users data\n",
    "train.head()"
   ]
  },
  {
   "cell_type": "code",
   "execution_count": 4,
   "id": "02c8554f-a75d-4377-8661-9a6d6b274643",
   "metadata": {},
   "outputs": [
    {
     "data": {
      "text/plain": [
       "user_id       0\n",
       "article_id    0\n",
       "rating        0\n",
       "dtype: int64"
      ]
     },
     "execution_count": 4,
     "metadata": {},
     "output_type": "execute_result"
    }
   ],
   "source": [
    "pd.isnull(train).sum()"
   ]
  },
  {
   "cell_type": "code",
   "execution_count": 5,
   "id": "d7a03617-4c6d-4e17-a68c-f79202968fb7",
   "metadata": {},
   "outputs": [],
   "source": [
    "num_users = train['user_id'].nunique()"
   ]
  },
  {
   "cell_type": "code",
   "execution_count": 6,
   "id": "2780f2da-72cb-4a53-8cf2-6d2aafddd6cd",
   "metadata": {},
   "outputs": [],
   "source": [
    "article_stats = train.groupby('article_id').agg(\n",
    "    avg_rating=('rating', 'mean'),\n",
    "    rating_count=('rating', 'count'),\n",
    "    read_count=('user_id', 'count')\n",
    ").reset_index()"
   ]
  },
  {
   "cell_type": "code",
   "execution_count": 7,
   "id": "970e898b-2a11-4904-99b1-7381c59e2cee",
   "metadata": {},
   "outputs": [],
   "source": [
    "min_ratings = 0.05 * num_users\n",
    "filtered_articles = article_stats[article_stats['rating_count'] >= min_ratings]\n",
    "top_10_avg_rating = filtered_articles.sort_values(by='avg_rating', ascending=False).head(10)"
   ]
  },
  {
   "cell_type": "code",
   "execution_count": 8,
   "id": "705dd988-0f2e-469f-8475-c33bc3f88959",
   "metadata": {},
   "outputs": [
    {
     "name": "stdout",
     "output_type": "stream",
     "text": [
      "Top 10 Articles Based on Average Rating:\n",
      "      article_id  avg_rating  rating_count  read_count\n",
      "488          580    1.833333            48          48\n",
      "1067        1249    1.706897            58          58\n",
      "2364        2781    1.700000            60          60\n",
      "1220        1433    1.639344            61          61\n",
      "820          967    1.442623           122         122\n",
      "182          221    1.421875            64          64\n",
      "521          618    1.420000            50          50\n",
      "1496        1755    1.407407            54          54\n",
      "382          456    1.391304            69          69\n",
      "2036        2388    1.384615            52          52\n"
     ]
    }
   ],
   "source": [
    "print(\"Top 10 Articles Based on Average Rating:\")\n",
    "print(top_10_avg_rating)"
   ]
  },
  {
   "cell_type": "code",
   "execution_count": 9,
   "id": "e09a80aa-d1b0-45d9-8b9c-50c859e92e46",
   "metadata": {},
   "outputs": [],
   "source": [
    "top_10_most_read = article_stats[article_stats['avg_rating'] > 1.5]\n",
    "top_10_most_read = top_10_most_read.sort_values(by='read_count', ascending=False).head(10)"
   ]
  },
  {
   "cell_type": "code",
   "execution_count": 10,
   "id": "92c0e34c-f94a-4a1a-94d6-a0ac0c628f4f",
   "metadata": {},
   "outputs": [
    {
     "name": "stdout",
     "output_type": "stream",
     "text": [
      "\n",
      "Top 10 Most Read Articles with Avg Rating > 1.5:\n",
      "      article_id  avg_rating  rating_count  read_count\n",
      "1220        1433    1.639344            61          61\n",
      "2364        2781    1.700000            60          60\n",
      "1067        1249    1.706897            58          58\n",
      "488          580    1.833333            48          48\n",
      "2012        2361    1.523810            42          42\n",
      "1163        1366    1.731707            41          41\n",
      "1858        2178    1.578947            38          38\n",
      "1918        2248    1.514286            35          35\n",
      "1460        1716    1.794118            34          34\n",
      "1372        1614    1.515152            33          33\n"
     ]
    }
   ],
   "source": [
    "print(\"\\nTop 10 Most Read Articles with Avg Rating > 1.5:\")\n",
    "print(top_10_most_read)"
   ]
  },
  {
   "cell_type": "code",
   "execution_count": 11,
   "id": "5c7b537c-04e8-4efd-8505-b5a96aa0d817",
   "metadata": {},
   "outputs": [],
   "source": [
    "C = train['rating'].mean()  # Mean rating across all articles\n",
    "m = 2  # Minimum number of ratings required\n",
    "def weighted_rating(row):\n",
    "    R = row['avg_rating']\n",
    "    v = row['rating_count']\n",
    "    return (R * v + C * m) / (v + m)\n",
    "\n",
    "article_stats['weighted_rating'] = article_stats.apply(weighted_rating, axis=1)\n",
    "top_10_weighted = article_stats.sort_values(by='weighted_rating', ascending=False).head(10)\n"
   ]
  },
  {
   "cell_type": "code",
   "execution_count": 12,
   "id": "d0529779-f475-4128-af84-c7fb8116f3c3",
   "metadata": {},
   "outputs": [
    {
     "name": "stdout",
     "output_type": "stream",
     "text": [
      "\n",
      "Top 10 Articles Based on Weighted Rating:\n",
      "      article_id  avg_rating  rating_count  read_count  weighted_rating\n",
      "199          239    5.000000             2           2         3.226974\n",
      "1944        2283    5.000000             2           2         3.226974\n",
      "107          129    4.000000             4           4         3.151316\n",
      "1826        2141    4.000000             4           4         3.151316\n",
      "2363        2779    3.666667             6           6         3.113487\n",
      "789          931    3.500000             8           8         3.090790\n",
      "18            24    4.000000             3           3         2.981579\n",
      "617          739    4.000000             3           3         2.981579\n",
      "729          861    4.500000             2           2         2.976974\n",
      "1774        2079    3.333333             6           6         2.863487\n"
     ]
    }
   ],
   "source": [
    "print(\"\\nTop 10 Articles Based on Weighted Rating:\")\n",
    "print(top_10_weighted)"
   ]
  },
  {
   "cell_type": "code",
   "execution_count": null,
   "id": "86305df7-c82f-4b77-8ccb-88425ae7ecbe",
   "metadata": {},
   "outputs": [],
   "source": []
  }
 ],
 "metadata": {
  "kernelspec": {
   "display_name": "Python 3 (ipykernel)",
   "language": "python",
   "name": "python3"
  },
  "language_info": {
   "codemirror_mode": {
    "name": "ipython",
    "version": 3
   },
   "file_extension": ".py",
   "mimetype": "text/x-python",
   "name": "python",
   "nbconvert_exporter": "python",
   "pygments_lexer": "ipython3",
   "version": "3.12.7"
  }
 },
 "nbformat": 4,
 "nbformat_minor": 5
}
